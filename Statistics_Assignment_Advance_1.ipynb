{
 "cells": [
  {
   "cell_type": "code",
   "execution_count": 1,
   "id": "d709d951-ea82-427c-af45-3067c018b23c",
   "metadata": {},
   "outputs": [],
   "source": [
    "# Q1. What is the Probability density function?\n",
    "\n",
    "# The Probability Density Function (PDF) gives the relative likelihood of a continuous random variable taking on a specific value within a\n",
    "# probability distribution."
   ]
  },
  {
   "cell_type": "code",
   "execution_count": 2,
   "id": "cb12f2f8-929a-4d66-840a-6160ecdbbf24",
   "metadata": {},
   "outputs": [],
   "source": [
    "# 2. What are the types of Probability distribution?\n",
    "\n",
    "# 1. Probability density function\n",
    "# 2. Probability Mass Function"
   ]
  },
  {
   "cell_type": "code",
   "execution_count": 3,
   "id": "53b62a61-585f-47c6-96ec-abd81d8cac3d",
   "metadata": {},
   "outputs": [],
   "source": [
    "# 4. What are the properties of Binomial distribution? Give two examples of events where binomial \n",
    "# distribution can be applied.\n",
    "\n",
    "# 1. The distribution represents the number of successes (k) in a fixed number of independent trials (n) with the same probability of success (p) for each trial.\n",
    "\n",
    "# 2. The outcomes of each trial are mutually exclusive (only two possible outcomes), and the probability of success remains constant for all trials.\n",
    "\n",
    "# Examples of events where the Binomial distribution can be applied include:\n",
    "\n",
    "# 1. The number of heads obtained when flipping a fair coin multiple times.\n",
    "# 2. The number of defective items found in a production batch, assuming a constant defect rate for each item."
   ]
  },
  {
   "cell_type": "code",
   "execution_count": 4,
   "id": "e90dd689-8194-4b31-958b-19820b3dd80a",
   "metadata": {},
   "outputs": [
    {
     "data": {
      "image/png": "[encoded data removed]",
      "text/plain": [
       "<Figure size 640x480 with 1 Axes>"
      ]
     },
     "metadata": {},
     "output_type": "display_data"
    }
   ],
   "source": [
    "# 5. Generate a random sample of size 1000 from a binomial distribution with probability of success 0.4 \n",
    "# and plot a histogram of the results using matplotlib.\n",
    "\n",
    "\n",
    "import numpy as np\n",
    "import matplotlib.pyplot as plt\n",
    "\n",
    "# Set the parameters\n",
    "n = 1000  # Number of trials\n",
    "p = 0.4  # Probability of success\n",
    "\n",
    "# Generate the random sample\n",
    "sample = np.random.binomial(n, p, size=1000)\n",
    "\n",
    "# Plot the histogram\n",
    "plt.hist(sample, bins=20, density=True, alpha=0.7)\n",
    "plt.xlabel('Number of Successes')\n",
    "plt.ylabel('Probability Density')\n",
    "plt.title('Histogram of Binomial Distribution')\n",
    "plt.show()\n"
   ]
  },
  {
   "cell_type": "code",
   "execution_count": 5,
   "id": "8748309d-2742-405d-8d79-4659805856bc",
   "metadata": {},
   "outputs": [],
   "source": [
    "# 6. Write a Python function to calculate the cumulative distribution function of a Poisson distribution \n",
    "# with given mean at a given point.\n",
    "\n",
    "import math\n",
    "\n",
    "def poisson_cdf(mean, k):\n",
    "    cdf = 0.0\n",
    "    for i in range(k + 1):\n",
    "        cdf += math.exp(-mean) * (mean ** i) / math.factorial(i)\n",
    "    return cdf\n"
   ]
  },
  {
   "cell_type": "code",
   "execution_count": 6,
   "id": "4c5dae96-91fb-4bc0-b80d-39f6ad92d40c",
   "metadata": {},
   "outputs": [],
   "source": [
    "# 7. How Binomial distribution different from Poisson distribution?\n",
    "\n",
    "# The Binomial distribution models the number of successes in a fixed number of independent trials, while the Poisson distribution models \n",
    "# the number of events occurring in a fixed interval of time or space. The Binomial distribution has a fixed number of trials and a \n",
    "# constant probability of success, while the Poisson distribution has a variable number of events with a given average rate."
   ]
  },
  {
   "cell_type": "code",
   "execution_count": 7,
   "id": "d731bb8c-6bca-45e3-84e4-148a0ac2bade",
   "metadata": {},
   "outputs": [
    {
     "name": "stdout",
     "output_type": "stream",
     "text": [
      "Sample Mean: 5.068\n",
      "Sample Variance: 5.343376\n"
     ]
    }
   ],
   "source": [
    "# Q8. Generate a random sample of size 1000 from a Poisson distribution with mean 5 and calculate the \n",
    "# sample mean and variance\n",
    "\n",
    "import numpy as np\n",
    "\n",
    "# Set the parameters\n",
    "size = 1000  # Sample size\n",
    "mean = 5     # Mean of the Poisson distribution\n",
    "\n",
    "# Generate the random sample\n",
    "sample = np.random.poisson(mean, size)\n",
    "\n",
    "# Calculate the sample mean and variance\n",
    "sample_mean = np.mean(sample)\n",
    "sample_variance = np.var(sample)\n",
    "\n",
    "print(\"Sample Mean:\", sample_mean)\n",
    "print(\"Sample Variance:\", sample_variance)\n"
   ]
  },
  {
   "cell_type": "code",
   "execution_count": 9,
   "id": "05c28648-0121-4901-83a9-3d47e6c6b838",
   "metadata": {},
   "outputs": [],
   "source": [
    "# Q9. How mean and variance are related in Binomial distribution and Poisson distribution?\n",
    "\n",
    "# In both the Binomial and Poisson distributions, the mean and variance are related, but the relationship is different for each distribution.\n",
    "\n",
    "# For the Binomial distribution, the mean (μ) is equal to the product of the number of trials (n) and the probability of success in each trial (p).\n",
    "# The variance (σ^2) is equal to the product of the number of trials (n), the probability of success (p), and the probability of failure (1-p). \n",
    "# In mathematical terms:\n",
    "\n",
    "# Binomial Mean: μ = n * p\n",
    "# Binomial Variance: σ^2 = n * p * (1-p)\n",
    "\n",
    "# For the Poisson distribution, both the mean (μ) and variance (σ^2) are equal to the parameter lambda (λ), which represents \n",
    "# the average rate of events occurring in a fixed interval. In other words, the mean and variance of a Poisson distribution are both equal to λ. \n",
    "# In mathematical terms:\n",
    "\n",
    "# Poisson Mean: μ = λ\n",
    "# Poisson Variance: σ^2 = λ\n",
    "\n",
    "# Therefore, in the Binomial distribution, the variance depends on both the number of trials and the probability of success, \n",
    "# while in the Poisson distribution, the variance is solely determined by the average rate parameter lambda.\n"
   ]
  },
  {
   "cell_type": "code",
   "execution_count": 10,
   "id": "b2ec80e4-5e3f-4b6c-9c74-00b033d6999b",
   "metadata": {},
   "outputs": [],
   "source": [
    "# 10. In normal distribution with respect to mean position, where does the least frequent data appear?\n",
    "\n",
    "# The least frequent data in a normal distribution appears in the tails, which are located farthest away from the mean."
   ]
  },
  {
   "cell_type": "code",
   "execution_count": null,
   "id": "52e91814-fe94-4ab1-9328-8367977b1fc9",
   "metadata": {},
   "outputs": [],
   "source": []
  }
 ],
 "metadata": {
  "kernelspec": {
   "display_name": "Python 3 (ipykernel)",
   "language": "python",
   "name": "python3"
  },
  "language_info": {
   "codemirror_mode": {
    "name": "ipython",
    "version": 3
   },
   "file_extension": ".py",
   "mimetype": "text/x-python",
   "name": "python",
   "nbconvert_exporter": "python",
   "pygments_lexer": "ipython3",
   "version": "3.10.8"
  }
 },
 "nbformat": 4,
 "nbformat_minor": 5
}
